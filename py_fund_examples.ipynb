{
 "cells": [
  {
   "cell_type": "markdown",
   "metadata": {},
   "source": [
    "**example #1**"
   ]
  },
  {
   "cell_type": "code",
   "execution_count": 1,
   "metadata": {},
   "outputs": [],
   "source": [
    "def count_repeat(string):\n",
    "    '''\n",
    "    'abba' --> 1\n",
    "    'abcd' --> 0\n",
    "    'aabbccdd'-->4\n",
    "    '''\n",
    "    _count = 0\n",
    "    _len = len(string) - 1\n",
    "    for index, letter in enumerate(string):\n",
    "        # index not equal to len -1 first // error if vice versa \n",
    "        if (index != _len) and (letter == string[index+1]):\n",
    "            _count += 1\n",
    "        else:\n",
    "            continue\n",
    "    return _count"
   ]
  },
  {
   "cell_type": "code",
   "execution_count": 2,
   "metadata": {},
   "outputs": [],
   "source": [
    "# manipulating collections \n",
    "pets = {\n",
    "    'Ginger': {\n",
    "        'age': 5,\n",
    "        'type': 'Pitbull',\n",
    "        'attribute': ['Playful','Cheery','Hyper']\n",
    "    },\n",
    "    'Chloe': {\n",
    "        'age': 1,\n",
    "        'type': 'Maine Coon',\n",
    "        'teams': ['Alert','Independent','Playful']\n",
    "    },\n",
    "    'Chuck Norris': {\n",
    "        'age': 8,\n",
    "        'type': 'Parrot',\n",
    "        'teams': ['Talkative','Independent','Cheery']\n",
    "    },\n",
    "    'Joe Rogan': {\n",
    "        'age': 2,\n",
    "        'type': 'Labrador',\n",
    "        'teams': ['Hyper','Playful','Energetic']\n",
    "    }\n",
    "}"
   ]
  },
  {
   "cell_type": "markdown",
   "metadata": {},
   "source": [
    "**example #2**"
   ]
  },
  {
   "cell_type": "code",
   "execution_count": 3,
   "metadata": {},
   "outputs": [],
   "source": [
    "# create a function that returns the names of pets who is older than x years old\n",
    "\n",
    "# the function should take in a dictionary containing all pet information, \n",
    "# and an integer indicating age you want to compare\n",
    "def pets_older_than(pets_dict, x):\n",
    "    \n",
    "    \"\"\"return a list of name of pets older than x\"\"\"\n",
    "    \n",
    "    _list = [i for i in pets_dict if pets_dict[i]['age'] > x]\n",
    "    return _list"
   ]
  },
  {
   "cell_type": "markdown",
   "metadata": {},
   "source": [
    "**example #3**"
   ]
  },
  {
   "cell_type": "code",
   "execution_count": 4,
   "metadata": {},
   "outputs": [],
   "source": [
    "# take home exercise - implement whether a function is palindrome\n",
    "\n",
    "# implement a function that checks whether a string is a palindrome \n",
    "def is_palindrome(string):\n",
    "    '''\n",
    "    palindrome = reversed characters in a string is equal to string\n",
    "    'race car' is not a palindrome due to space\n",
    "    '''\n",
    "    string = string.lower()\n",
    "    _list = [char for char in string]\n",
    "    _reverse = _list.copy()\n",
    "    _reverse.reverse()\n",
    "    return _list == _reverse"
   ]
  },
  {
   "cell_type": "code",
   "execution_count": null,
   "metadata": {},
   "outputs": [],
   "source": []
  }
 ],
 "metadata": {
  "kernelspec": {
   "display_name": "Python 3",
   "language": "python",
   "name": "python3"
  },
  "language_info": {
   "codemirror_mode": {
    "name": "ipython",
    "version": 3
   },
   "file_extension": ".py",
   "mimetype": "text/x-python",
   "name": "python",
   "nbconvert_exporter": "python",
   "pygments_lexer": "ipython3",
   "version": "3.7.4"
  }
 },
 "nbformat": 4,
 "nbformat_minor": 4
}
