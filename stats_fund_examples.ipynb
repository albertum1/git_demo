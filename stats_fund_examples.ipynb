{
 "cells": [
  {
   "cell_type": "markdown",
   "metadata": {},
   "source": [
    "**Exercises for Statsitics_Fundaments.ipynb**"
   ]
  },
  {
   "cell_type": "code",
   "execution_count": 1,
   "metadata": {},
   "outputs": [],
   "source": [
    "# exercises\n",
    "\n",
    "# can you write a function that takes in an array, calculate the variance and standard deviation?\n",
    "def calculate_variance(array):\n",
    "    '''\n",
    "    calculate the variance of an array\n",
    "    '''\n",
    "    average_of = lambda x: sum(x)/len(x)\n",
    "    _average = average_of(array)\n",
    "    _count = 0\n",
    "    for i in array:\n",
    "        _count += ((i - _average)**2)\n",
    "        \n",
    "    return _count/len(array)\n",
    "    "
   ]
  },
  {
   "cell_type": "code",
   "execution_count": 2,
   "metadata": {},
   "outputs": [],
   "source": [
    "def calculate_std(array):\n",
    "    '''\n",
    "    calculate the standard deviation of an array\n",
    "    '''\n",
    "    _variance = calculate_variance(array)\n",
    "    return _variance**(1/2)"
   ]
  },
  {
   "cell_type": "code",
   "execution_count": 3,
   "metadata": {},
   "outputs": [],
   "source": [
    "## exercises\n",
    "\n",
    "# write a function that calculates the correlation and covariance of two arrays \n",
    "\n",
    "def calculate_covariance(array1, array2):\n",
    "    '''\n",
    "    calculate the covariance of two arrays\n",
    "    '''\n",
    "    \n",
    "    if len(array1) != len(array2):\n",
    "        raise TypeError('length of array1 must be equal to length of array2')\n",
    "    _x_average = average_of(array1)\n",
    "    _y_average = average_of(array2)\n",
    "    _count = 0\n",
    "    for a1, a2 in zip(array1,array2):\n",
    "        _value = (a1 - _x_average) * (a2 - _y_average)\n",
    "        _count += _value\n",
    "        \n",
    "    return _count/len(array1)"
   ]
  },
  {
   "cell_type": "code",
   "execution_count": 4,
   "metadata": {},
   "outputs": [],
   "source": [
    "def calculate_correlation(array1, array2):\n",
    "    '''\n",
    "    calculate the correlation of two arrays\n",
    "    '''\n",
    "\n",
    "    _covariance = calculate_covariance(array1, array2)\n",
    "    _x_std = calculate_std(array1)\n",
    "    _y_std = calculate_std(array2)\n",
    "    \n",
    "    return _covariance/(_x_std*_y_std)"
   ]
  },
  {
   "cell_type": "code",
   "execution_count": null,
   "metadata": {},
   "outputs": [],
   "source": []
  }
 ],
 "metadata": {
  "kernelspec": {
   "display_name": "Python 3",
   "language": "python",
   "name": "python3"
  },
  "language_info": {
   "codemirror_mode": {
    "name": "ipython",
    "version": 3
   },
   "file_extension": ".py",
   "mimetype": "text/x-python",
   "name": "python",
   "nbconvert_exporter": "python",
   "pygments_lexer": "ipython3",
   "version": "3.7.4"
  }
 },
 "nbformat": 4,
 "nbformat_minor": 4
}
